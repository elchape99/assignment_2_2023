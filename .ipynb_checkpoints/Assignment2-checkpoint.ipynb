{
 "cells": [
  {
   "cell_type": "markdown",
   "id": "361cc8db",
   "metadata": {},
   "source": [
    "# RT2 assignment II \n",
    "create a jupyter notebook to replace the add user interface for the assignment 2 of rt1. This interface will provide the user the capability of:\n",
    "- assign (or cancel) goals to the robot\n",
    "- plot with the robot’s position and targets’ positions in the environment\n",
    "- plot for the number of reached/not-reached targets\n",
    "\n",
    "## Inizialization\n",
    "Import all the necessary modules"
   ]
  },
  {
   "cell_type": "code",
   "execution_count": 1,
   "id": "3645210c",
   "metadata": {},
   "outputs": [],
   "source": [
    "%matplotlib widget\n",
    "# Import necessary modules\n",
    "import ipywidgets as widgets # Library for the use of widget\n",
    "import numpy as np \n",
    "import matplotlib.pyplot as plt # Library for use the script of matplotlib\n",
    "from matplotlib.animation import FuncAnimation # Library for using matplotlib with python\n",
    "from IPython.display import display\n",
    "\n",
    "import rospy\n",
    "import tf\n",
    "from tf.transformations import quaternion_matrix\n",
    "\n",
    "import actionlib\n",
    "import assignment_2_2023\n",
    "import assignment_2_2023.msg\n",
    "from nav_msgs.msg import Odometry\n",
    "from assignment_2_2023.msg import PlanningAction, PlanningActionGoal, RobotInfo, PlanningGoal, PlanningActionResult\n",
    "\n",
    "# defining global variables\n",
    "global last_x, last_y\n",
    "last_x = None\n",
    "last_y = None\n"
   ]
  },
  {
   "cell_type": "markdown",
   "id": "ed09eee0",
   "metadata": {},
   "source": [
    "## User interface\n",
    "In this part is possible to send a new target at the robot or delete the actual target. Is possible to write the new target inside the box and use the bottom below for send or delete the message.\n",
    "\n",
    "In the first two cells there all all teh code referred to the class and the function that I will use inide the node. In the  third script there is all the implementation of the node "
   ]
  },
  {
   "cell_type": "code",
   "execution_count": 2,
   "id": "faa1fd9e",
   "metadata": {},
   "outputs": [],
   "source": [
    "class Visualiser:\n",
    "    def __init__(self):\n",
    "        self.fig, self.ax = plt.subplots()\n",
    "        self.ln, = plt.plot([], [], 'ro')\n",
    "        self.goal_ln, = plt.plot([], [], 'go')  # Line object for goals\n",
    "        self.x_data, self.y_data = [] , []\n",
    "        self.goal_x_data, self.goal_y_data = [] , []  # Data for goals\n",
    "\n",
    "    def plot_init(self):\n",
    "        self.ax.set_xlim(-10, 10)\n",
    "        self.ax.set_ylim(-10, 10)\n",
    "        return self.ln, self.goal_ln,\n",
    "\n",
    "    def odom_callback(self, msg):\n",
    "        self.y_data.append(msg.pose.pose.position.y)\n",
    "        self.x_data.append(msg.pose.pose.position.x)\n",
    "\n",
    "    def update_plot(self, frame):\n",
    "        self.ln.set_data(self.x_data, self.y_data)\n",
    "        self.goal_ln.set_data(self.goal_x_data, self.goal_y_data)  # Update goal data\n",
    "        return self.ln, self.goal_ln,\n",
    "\n",
    "    def add_goal(self, x, y):\n",
    "        self.goal_x_data.append(x)\n",
    "        self.goal_y_data.append(y)\n",
    "\n",
    "    def remove_goal(self, x, y):\n",
    "        if x in self.goal_x_data and y in self.goal_y_data:\n",
    "            index = self.goal_x_data.index(x)\n",
    "            self.goal_x_data.pop(index)\n",
    "            self.goal_y_data.pop(index)\n"
   ]
  },
  {
   "cell_type": "code",
   "execution_count": 3,
   "id": "b3a6f804",
   "metadata": {},
   "outputs": [],
   "source": [
    "# section with inside all the function thaht will be utilized in the code\n",
    "\n",
    "# Define a function to handle button click (Submit Coordinates)\n",
    "def on_submit_button_clicked(b):\n",
    "    x = x_input.value\n",
    "    y = y_input.value\n",
    "    \n",
    "    global last_x\n",
    "    global last_y\n",
    "    \n",
    "    # Remopve the previon goal printed isnoide the graph\n",
    "    # Check if there are last submitted coordinates\n",
    "    if last_x is not None and last_y is not None:\n",
    "        vis.remove_goal(last_x, last_y)\n",
    "        print(f'Removed goal at: X={last_x}, Y={last_y}')\n",
    "        \n",
    "    # Here you can add the code to send the coordinates to the robot\n",
    "    goal.target_pose.pose.position.x = x\n",
    "    goal.target_pose.pose.position.y = y\n",
    "    # update the last coordinate of the goal\n",
    "    last_x = x\n",
    "    last_y = y\n",
    "    # Send goal to the action server\n",
    "    interface.send_goal(goal)\n",
    "    vis.add_goal(x, y)\n",
    "    print(f'Coordinates submitted: X={x}, Y={y}')\n",
    "\n",
    "    \n",
    "# Define a function to handle button click (Delete Coordinates)\n",
    "def on_delete_button_clicked(b):\n",
    "    \n",
    "    global last_x\n",
    "    global last_y\n",
    "    \n",
    "    if interface.get_state() == actionlib.GoalStatus.ACTIVE:\n",
    "        interface.cancel_goal()\n",
    "        print(f'Goal cancelled')\n",
    "    else:\n",
    "        print(f'There is no active goal to cancel')\n",
    "     \n",
    "    # Check if there are last submitted coordinates\n",
    "    if last_x is not None and last_y is not None:\n",
    "        vis.remove_goal(last_x, last_y)\n",
    "        print(f'Removed goal at: X={last_x}, Y={last_y}')        \n",
    "\n",
    "def goal_callback(msg):\n",
    "    if (msg.actionlib_msgs.GoalStatus.status == 3):\n",
    "        counter +1\n",
    "        print (counter)\n",
    "        \n",
    "# Define a callback function for the subscriber, inside this function update the current value of the robot position\n",
    "def callback(msg):\n",
    "    # Get the position from the message\n",
    "    position = msg.pose.pose.position\n",
    "    \n",
    "    # Update the widget values\n",
    "    x_position_display.value = position.x\n",
    "    y_position_display.value = position.y\n",
    "    z_position_display.value = position.z  \n"
   ]
  },
  {
   "cell_type": "markdown",
   "id": "8ed2369d",
   "metadata": {},
   "source": [
    "## Jupyetr node\n",
    "\n",
    "In the cell below there is all the implementation of the node. \n",
    "\n",
    "In this section will be printed in a box text the position of the robot. For doing that I decide to subscribe to a topic /odom and print the value of the position of the robot. Those values are inside the mesage of type: msg.pose.pose.position and respectively on position x, y cordinates. \n"
   ]
  },
  {
   "cell_type": "code",
   "execution_count": 4,
   "id": "924f9701",
   "metadata": {},
   "outputs": [
    {
     "data": {
      "application/vnd.jupyter.widget-view+json": {
       "model_id": "bb2e58079f124a138970102a844f2744",
       "version_major": 2,
       "version_minor": 0
      },
      "text/plain": [
       "VBox(children=(HBox(children=(FloatText(value=0.0, description='X Coordinate:'), FloatText(value=0.0, descript…"
      ]
     },
     "metadata": {},
     "output_type": "display_data"
    },
    {
     "data": {
      "application/vnd.jupyter.widget-view+json": {
       "model_id": "41b57d418c054463ac841d61eca6a745",
       "version_major": 2,
       "version_minor": 0
      },
      "text/plain": [
       "Canvas(toolbar=Toolbar(toolitems=[('Home', 'Reset original view', 'home', 'home'), ('Back', 'Back to previous …"
      ]
     },
     "metadata": {},
     "output_type": "display_data"
    },
    {
     "ename": "UnboundLocalError",
     "evalue": "local variable 'last_x' referenced before assignment",
     "output_type": "error",
     "traceback": [
      "\u001b[0;31m---------------------------------------------------------------------------\u001b[0m",
      "\u001b[0;31mUnboundLocalError\u001b[0m                         Traceback (most recent call last)",
      "\u001b[0;32m/tmp/ipykernel_1575/323203857.py\u001b[0m in \u001b[0;36mon_submit_button_clicked\u001b[0;34m(b)\u001b[0m\n\u001b[1;32m      8\u001b[0m     \u001b[0;31m# Remopve the previon goal printed isnoide the graph\u001b[0m\u001b[0;34m\u001b[0m\u001b[0;34m\u001b[0m\u001b[0;34m\u001b[0m\u001b[0m\n\u001b[1;32m      9\u001b[0m     \u001b[0;31m# Check if there are last submitted coordinates\u001b[0m\u001b[0;34m\u001b[0m\u001b[0;34m\u001b[0m\u001b[0;34m\u001b[0m\u001b[0m\n\u001b[0;32m---> 10\u001b[0;31m     \u001b[0;32mif\u001b[0m \u001b[0mlast_x\u001b[0m \u001b[0;32mis\u001b[0m \u001b[0;32mnot\u001b[0m \u001b[0;32mNone\u001b[0m \u001b[0;32mand\u001b[0m \u001b[0mlast_y\u001b[0m \u001b[0;32mis\u001b[0m \u001b[0;32mnot\u001b[0m \u001b[0;32mNone\u001b[0m\u001b[0;34m:\u001b[0m\u001b[0;34m\u001b[0m\u001b[0;34m\u001b[0m\u001b[0m\n\u001b[0m\u001b[1;32m     11\u001b[0m         \u001b[0mvis\u001b[0m\u001b[0;34m.\u001b[0m\u001b[0mremove_goal\u001b[0m\u001b[0;34m(\u001b[0m\u001b[0mlast_x\u001b[0m\u001b[0;34m,\u001b[0m \u001b[0mlast_y\u001b[0m\u001b[0;34m)\u001b[0m\u001b[0;34m\u001b[0m\u001b[0;34m\u001b[0m\u001b[0m\n\u001b[1;32m     12\u001b[0m         \u001b[0mprint\u001b[0m\u001b[0;34m(\u001b[0m\u001b[0;34mf'Removed goal at: X={last_x}, Y={last_y}'\u001b[0m\u001b[0;34m)\u001b[0m\u001b[0;34m\u001b[0m\u001b[0;34m\u001b[0m\u001b[0m\n",
      "\u001b[0;31mUnboundLocalError\u001b[0m: local variable 'last_x' referenced before assignment"
     ]
    },
    {
     "name": "stdout",
     "output_type": "stream",
     "text": [
      "There is no active goal to cancel\n",
      "There is no active goal to cancel\n"
     ]
    },
    {
     "ename": "UnboundLocalError",
     "evalue": "local variable 'last_x' referenced before assignment",
     "output_type": "error",
     "traceback": [
      "\u001b[0;31m---------------------------------------------------------------------------\u001b[0m",
      "\u001b[0;31mUnboundLocalError\u001b[0m                         Traceback (most recent call last)",
      "\u001b[0;32m/tmp/ipykernel_1575/323203857.py\u001b[0m in \u001b[0;36mon_submit_button_clicked\u001b[0;34m(b)\u001b[0m\n\u001b[1;32m      8\u001b[0m     \u001b[0;31m# Remopve the previon goal printed isnoide the graph\u001b[0m\u001b[0;34m\u001b[0m\u001b[0;34m\u001b[0m\u001b[0;34m\u001b[0m\u001b[0m\n\u001b[1;32m      9\u001b[0m     \u001b[0;31m# Check if there are last submitted coordinates\u001b[0m\u001b[0;34m\u001b[0m\u001b[0;34m\u001b[0m\u001b[0;34m\u001b[0m\u001b[0m\n\u001b[0;32m---> 10\u001b[0;31m     \u001b[0;32mif\u001b[0m \u001b[0mlast_x\u001b[0m \u001b[0;32mis\u001b[0m \u001b[0;32mnot\u001b[0m \u001b[0;32mNone\u001b[0m \u001b[0;32mand\u001b[0m \u001b[0mlast_y\u001b[0m \u001b[0;32mis\u001b[0m \u001b[0;32mnot\u001b[0m \u001b[0;32mNone\u001b[0m\u001b[0;34m:\u001b[0m\u001b[0;34m\u001b[0m\u001b[0;34m\u001b[0m\u001b[0m\n\u001b[0m\u001b[1;32m     11\u001b[0m         \u001b[0mvis\u001b[0m\u001b[0;34m.\u001b[0m\u001b[0mremove_goal\u001b[0m\u001b[0;34m(\u001b[0m\u001b[0mlast_x\u001b[0m\u001b[0;34m,\u001b[0m \u001b[0mlast_y\u001b[0m\u001b[0;34m)\u001b[0m\u001b[0;34m\u001b[0m\u001b[0;34m\u001b[0m\u001b[0m\n\u001b[1;32m     12\u001b[0m         \u001b[0mprint\u001b[0m\u001b[0;34m(\u001b[0m\u001b[0;34mf'Removed goal at: X={last_x}, Y={last_y}'\u001b[0m\u001b[0;34m)\u001b[0m\u001b[0;34m\u001b[0m\u001b[0;34m\u001b[0m\u001b[0m\n",
      "\u001b[0;31mUnboundLocalError\u001b[0m: local variable 'last_x' referenced before assignment"
     ]
    }
   ],
   "source": [
    "%matplotlib widget\n",
    "\n",
    "rospy.init_node(\"jupyter_node\")\n",
    "\n",
    "# Inizialize the client service\n",
    "interface = actionlib.SimpleActionClient(\"/reaching_goal\", assignment_2_2023.msg.PlanningAction)\n",
    "interface.wait_for_server()\n",
    "goal = assignment_2_2023.msg.PlanningGoal()\n",
    "\n",
    "# Create text input fields for coordinates\n",
    "x_input = widgets.FloatText(value=0.0, description='X Coordinate:')\n",
    "y_input = widgets.FloatText(value=0.0, description='Y Coordinate:')\n",
    "\n",
    "# Create a button to submit coordinates and delete coordinates\n",
    "submit_button = widgets.Button(description='Submit Coordinates')\n",
    "delete_button = widgets.Button(description='Delete Coordinates')\n",
    "\n",
    "# Attach the functions to the buttons create before\n",
    "submit_button.on_click(on_submit_button_clicked)\n",
    "delete_button.on_click(on_delete_button_clicked)\n",
    "\n",
    "# Create FloatText widgets for displaying robot position\n",
    "x_position_display = widgets.FloatText(description='X:')\n",
    "y_position_display = widgets.FloatText(description='Y:')\n",
    "z_position_display = widgets.FloatText(description='Z:')\n",
    "\n",
    "# Create the place for the graph\n",
    "graph_output = widgets.Output()\n",
    "bargraph_output = widgets.Output()\n",
    "\n",
    "# Organizza i widget in un layout\n",
    "top_box = widgets.HBox([x_input, y_input])\n",
    "left_box = widgets.VBox([submit_button, delete_button])\n",
    "right_box = widgets.HBox([graph_output, bargraph_output])\n",
    "main_box = widgets.VBox([top_box, left_box, right_box])\n",
    "\n",
    "# Mostra i widget\n",
    "display(main_box)\n",
    "\n",
    "\n",
    "# Create a subscriber\n",
    "sub1 = rospy.Subscriber('/odom', Odometry, callback)\n",
    "\n",
    "# Display the widgets\n",
    "vis = Visualiser()\n",
    "sub = rospy.Subscriber('/odom', Odometry, vis.odom_callback)\n",
    "ani = FuncAnimation(vis.fig, vis.update_plot, init_func=vis.plot_init)\n",
    "plt.show()\n",
    "\n",
    "\n",
    "\n",
    "\n",
    "\n"
   ]
  }
 ],
 "metadata": {
  "kernelspec": {
   "display_name": "Python 3 (ipykernel)",
   "language": "python",
   "name": "python3"
  },
  "language_info": {
   "codemirror_mode": {
    "name": "ipython",
    "version": 3
   },
   "file_extension": ".py",
   "mimetype": "text/x-python",
   "name": "python",
   "nbconvert_exporter": "python",
   "pygments_lexer": "ipython3",
   "version": "3.8.5"
  }
 },
 "nbformat": 4,
 "nbformat_minor": 5
}
