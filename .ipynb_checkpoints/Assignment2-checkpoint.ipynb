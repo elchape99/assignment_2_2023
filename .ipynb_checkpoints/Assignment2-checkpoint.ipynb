{
 "cells": [
  {
   "cell_type": "markdown",
   "id": "361cc8db",
   "metadata": {},
   "source": [
    "# RT2 assignment II \n",
    "create a jupyter notebook to replace the add user interface for the assignment 2 of rt1. This interface will provide the user the capability of:\n",
    "- assign (or cancel) goals to the robot\n",
    "- plot with the robot’s position and targets’ positions in the environment\n",
    "- plot for the number of reached/not-reached targets\n",
    "\n",
    "## Inizialization\n",
    "Import all the necessary modules"
   ]
  },
  {
   "cell_type": "code",
   "execution_count": 1,
   "id": "3645210c",
   "metadata": {},
   "outputs": [],
   "source": [
    "# Import necessary modules\n",
    "import ipywidgets as widgets\n",
    "import numpy as np \n",
    "import matplotlib.pyplot as plt\n",
    "from IPython.display import display\n",
    "import rospy\n",
    "import actionlib\n",
    "import assignment_2_2023\n",
    "import assignment_2_2023.msg\n",
    "from nav_msgs.msg import Odometry\n",
    "from assignment_2_2023.msg import PlanningAction, PlanningActionGoal, RobotInfo, PlanningGoal\n"
   ]
  },
  {
   "cell_type": "markdown",
   "id": "ed09eee0",
   "metadata": {},
   "source": [
    "## User interface\n",
    "In this part is possible to send a new target at the robot or delete the actual target. Is possible to write the new target inside the box and use the bottom below for send or delete the message.\n",
    "\n",
    "Ragionare su implementazione interface.wait_for_result()\n",
    "if inteface.get_state == "
   ]
  },
  {
   "cell_type": "code",
   "execution_count": 2,
   "id": "924f9701",
   "metadata": {},
   "outputs": [
    {
     "data": {
      "application/vnd.jupyter.widget-view+json": {
       "model_id": "fb1c99468a594819a0d09af8783b85f4",
       "version_major": 2,
       "version_minor": 0
      },
      "text/plain": [
       "VBox(children=(FloatText(value=0.0, description='X Coordinate:'), FloatText(value=0.0, description='Y Coordina…"
      ]
     },
     "metadata": {},
     "output_type": "display_data"
    }
   ],
   "source": [
    "rospy.init_node(\"jupyter_node\")\n",
    "\n",
    "# Inizialize the client service\n",
    "interface = actionlib.SimpleActionClient(\"/reaching_goal\", assignment_2_2023.msg.PlanningAction)\n",
    "interface.wait_for_server()\n",
    "goal = assignment_2_2023.msg.PlanningGoal()\n",
    "\n",
    "# Create text input fields for coordinates\n",
    "x_input = widgets.FloatText(value=0.0, description='X Coordinate:')\n",
    "y_input = widgets.FloatText(value=0.0, description='Y Coordinate:')\n",
    "\n",
    "# Create a button to submit coordinates\n",
    "submit_button = widgets.Button(description='Submit Coordinates')\n",
    "\n",
    "# Create a button for delete the cordinate\n",
    "delete_button = widgets.Button(description='Delete Coordinates')\n",
    "\n",
    "# Display the widgets\n",
    "vbox = widgets.VBox([x_input, y_input, submit_button, delete_button])\n",
    "display(vbox)\n",
    "\n",
    "# Define a function to handle button click\n",
    "def on_submit_button_clicked(b):\n",
    "    x = x_input.value\n",
    "    y = y_input.value\n",
    "    \n",
    "    # Here you can add the code to send the coordinates to the robot\n",
    "    goal.target_pose.pose.position.x = x\n",
    "    goal.target_pose.pose.position.y = y\n",
    "    # Send goal to the action server\n",
    "    interface.send_goal(goal)\n",
    "    print(f'Coordinates submitted: X={x}, Y={y}')\n",
    "    \n",
    "def on_delete_button_clicked(b):\n",
    "    if interface.get_state() == actionlib.GoalStatus.ACTIVE:\n",
    "        interface.cancel_goal()\n",
    "        print(f'Goal cancelled')\n",
    "    else:\n",
    "        print(f'There is no active goal to cancel')\n",
    "\n",
    "\n",
    "# Attach the functions to the buttons\n",
    "submit_button.on_click(on_submit_button_clicked)\n",
    "delete_button.on_click(on_delete_button_clicked)\n",
    "\n",
    "\n"
   ]
  },
  {
   "cell_type": "markdown",
   "id": "82a65580",
   "metadata": {},
   "source": [
    "## Position of robot\n",
    "In this section will be printed in a box text the position of the robot. For doing that I decide to subscribe to a topic /odom and print the value of the position of the robot. Those values are inside the mesage of type: msg.pose.pose.position and respectively on position x, y and z cordinates."
   ]
  },
  {
   "cell_type": "code",
   "execution_count": 3,
   "id": "cce0f99f",
   "metadata": {},
   "outputs": [
    {
     "data": {
      "application/vnd.jupyter.widget-view+json": {
       "model_id": "3c0889a8e8f842e992786ba5695d2315",
       "version_major": 2,
       "version_minor": 0
      },
      "text/plain": [
       "FloatText(value=0.0, description='X:')"
      ]
     },
     "metadata": {},
     "output_type": "display_data"
    },
    {
     "data": {
      "application/vnd.jupyter.widget-view+json": {
       "model_id": "884015292ee043f4b9fcc1ee11d2a6e7",
       "version_major": 2,
       "version_minor": 0
      },
      "text/plain": [
       "FloatText(value=0.0, description='Y:')"
      ]
     },
     "metadata": {},
     "output_type": "display_data"
    },
    {
     "data": {
      "application/vnd.jupyter.widget-view+json": {
       "model_id": "a351de4db6e54a98b04783444fa7cfd0",
       "version_major": 2,
       "version_minor": 0
      },
      "text/plain": [
       "FloatText(value=0.0, description='Z:')"
      ]
     },
     "metadata": {},
     "output_type": "display_data"
    }
   ],
   "source": [
    "# Create FloatText widgets for displaying robot position\n",
    "x_position_display = widgets.FloatText(description='X:')\n",
    "y_position_display = widgets.FloatText(description='Y:')\n",
    "z_position_display = widgets.FloatText(description='Z:')\n",
    "\n",
    "# Define a callback function for the subscriber\n",
    "def callback(msg):\n",
    "    # Get the position from the message\n",
    "    position = msg.pose.pose.position\n",
    "    \n",
    "    # Update the widget values\n",
    "    x_position_display.value = position.x\n",
    "    y_position_display.value = position.y\n",
    "    z_position_display.value = position.z\n",
    "    \n",
    "# Create a subscriber\n",
    "sub = rospy.Subscriber('/odom', Odometry, callback)\n",
    "\n",
    "# Display the widgets\n",
    "display(x_position_display, y_position_display, z_position_display)"
   ]
  },
  {
   "cell_type": "markdown",
   "id": "b07f8436",
   "metadata": {},
   "source": [
    "Now the idea is to plot the position of the robot in a graphic. For doing that I will use the mathplot.pyplot for the widget and the numpy lib for the par relatet to the creation of the array."
   ]
  },
  {
   "cell_type": "code",
   "execution_count": null,
   "id": "7fcb4f10",
   "metadata": {},
   "outputs": [],
   "source": []
  },
  {
   "cell_type": "code",
   "execution_count": null,
   "id": "052346a1",
   "metadata": {},
   "outputs": [],
   "source": []
  }
 ],
 "metadata": {
  "kernelspec": {
   "display_name": "Python 3 (ipykernel)",
   "language": "python",
   "name": "python3"
  },
  "language_info": {
   "codemirror_mode": {
    "name": "ipython",
    "version": 3
   },
   "file_extension": ".py",
   "mimetype": "text/x-python",
   "name": "python",
   "nbconvert_exporter": "python",
   "pygments_lexer": "ipython3",
   "version": "3.8.5"
  }
 },
 "nbformat": 4,
 "nbformat_minor": 5
}
