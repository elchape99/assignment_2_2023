{
 "cells": [
  {
   "cell_type": "markdown",
   "id": "95bd0427",
   "metadata": {},
   "source": [
    "# Example of using matplotlib\n",
    "This library is sivided into 3 parts: \n",
    "- Backend Layer\n",
    "- Artist LAyer\n",
    "- Script Layer\n",
    "We will use only the script layer that semplify a lot the work for us.We don'n need to create the widget but only use it.\n",
    "In our code we don't use the object oriented method, but we only use the script method. For using script methiid we use the matplot.pyplot library.\n",
    "NOTE:\n",
    "import numpyp is used for use some math usage in jupyter, for example create the arrays etc ..."
   ]
  },
  {
   "cell_type": "code",
   "execution_count": 1,
   "id": "145c32aa",
   "metadata": {},
   "outputs": [
    {
     "data": {
      "image/png": "[encoded data removed]",
      "text/plain": [
       "<Figure size 432x288 with 1 Axes>"
      ]
     },
     "metadata": {
      "needs_background": "light"
     },
     "output_type": "display_data"
    }
   ],
   "source": [
    "import matplotlib.pyplot as plt\n",
    "import rospy\n",
    "import tf\n",
    "from turtlesim.msg import Pose\n",
    "from tf.transformations import quaternion_matrix\n",
    "import numpy as np\n",
    "from matplotlib.animation import FuncAnimation\n",
    "\n",
    "class Visualiser:\n",
    "\tdef __init__(self):\n",
    "\t\tself.fig, self.ax = plt.subplots()\n",
    "\t\tself.ln, = plt.plot([], [], 'ro')\n",
    "\t\tself.x_data, self.y_data = [] , []\n",
    "\n",
    "\tdef plot_init(self):\n",
    "\t\tself.ax.set_xlim(0, 10)\n",
    "\t\tself.ax.set_ylim(0, 10)\n",
    "\t\treturn self.ln,\n",
    "\t\t\n",
    "\tdef odom_callback(self, msg):\n",
    "\t\tself.y_data.append(msg.y)\n",
    "\t\tself.x_data.append(msg.x)\n",
    "\n",
    "\tdef update_plot(self, frame):\n",
    "\t\tself.ln.set_data(self.x_data, self.y_data)\n",
    "\t\treturn self.ln,\n",
    "\t\t\n",
    "\t\t\n",
    "rospy.init_node('odom_visualizer_node')\n",
    "vis = Visualiser()\n",
    "sub = rospy.Subscriber('/turtle1/pose', Pose, vis.odom_callback)\n",
    "ani = FuncAnimation(vis.fig, vis.update_plot, init_func=vis.plot_init)\n",
    "plt.show(block=True)\n"
   ]
  },
  {
   "cell_type": "code",
   "execution_count": null,
   "id": "97c33920",
   "metadata": {},
   "outputs": [],
   "source": []
  },
  {
   "cell_type": "code",
   "execution_count": null,
   "id": "c2462bec",
   "metadata": {},
   "outputs": [],
   "source": []
  }
 ],
 "metadata": {
  "kernelspec": {
   "display_name": "Python 3 (ipykernel)",
   "language": "python",
   "name": "python3"
  },
  "language_info": {
   "codemirror_mode": {
    "name": "ipython",
    "version": 3
   },
   "file_extension": ".py",
   "mimetype": "text/x-python",
   "name": "python",
   "nbconvert_exporter": "python",
   "pygments_lexer": "ipython3",
   "version": "3.8.5"
  }
 },
 "nbformat": 4,
 "nbformat_minor": 5
}
