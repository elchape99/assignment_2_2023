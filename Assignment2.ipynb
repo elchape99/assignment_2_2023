{
 "cells": [
  {
   "cell_type": "markdown",
   "id": "361cc8db",
   "metadata": {},
   "source": [
    "# RT2 assignment II \n",
    "create a jupyter notebook to replace the add user interface for the assignment 2 of rt1. This interface will provide the user the capability of:\n",
    "- assign (or cancel) goals to the robot\n",
    "- plot with the robot’s position and targets’ positions in the environment\n",
    "- plot for the number of reached/not-reached targets\n",
    "\n",
    "## Inizialization\n",
    "Import all the necessary modules"
   ]
  },
  {
   "cell_type": "code",
   "execution_count": 1,
   "id": "3645210c",
   "metadata": {},
   "outputs": [],
   "source": [
    "%matplotlib widget\n",
    "# Import necessary modules\n",
    "import ipywidgets as widgets # Library for the use of widget\n",
    "import numpy as np \n",
    "import matplotlib.pyplot as plt # Library for use the script of matplotlib\n",
    "from matplotlib.animation import FuncAnimation # Library for using matplotlib with python\n",
    "from IPython.display import display\n",
    "\n",
    "import rospy\n",
    "import tf\n",
    "from tf.transformations import quaternion_matrix\n",
    "\n",
    "import actionlib\n",
    "import assignment_2_2023\n",
    "import assignment_2_2023.msg\n",
    "from nav_msgs.msg import Odometry\n",
    "from assignment_2_2023.msg import PlanningAction, PlanningActionGoal, RobotInfo, PlanningGoal, PlanningActionResult\n",
    "\n",
    "# defining global variables\n",
    "global last_x, last_y\n",
    "global goal_x, goal_y\n",
    "goal_x = None\n",
    "goal_y = None\n",
    "last_x = None\n",
    "last_y = None\n",
    "\n",
    "global reached_goal, not_reached_goal\n",
    "reached_goal = []\n",
    "not_reached_goal = []\n"
   ]
  },
  {
   "cell_type": "markdown",
   "id": "ed09eee0",
   "metadata": {},
   "source": [
    "## User interface\n",
    "In this part is possible to send a new target at the robot or delete the actual target. Is possible to write the new target inside the box and use the bottom below for send or delete the message.\n",
    "\n",
    "In the first two cells there all all teh code referred to the class and the function that I will use inide the node. In the  third script there is all the implementation of the node "
   ]
  },
  {
   "cell_type": "code",
   "execution_count": 2,
   "id": "faa1fd9e",
   "metadata": {},
   "outputs": [],
   "source": [
    "class Visualiser:\n",
    "    def __init__(self):\n",
    "        self.fig, self.ax = plt.subplots()\n",
    "        self.ln, = plt.plot([], [], 'ro')\n",
    "        self.goal_ln, = plt.plot([], [], 'go')  # object for goals\n",
    "        self.x_data, self.y_data = [] , []\n",
    "        self.goal_x_data, self.goal_y_data = [] , []  # Data for goals\n",
    "\n",
    "    def plot_init(self):\n",
    "        self.ax.set_xlim(-10, 10)\n",
    "        self.ax.set_ylim(-10, 10)\n",
    "        return self.ln, self.goal_ln,\n",
    "\n",
    "    def odom_callback(self, msg):\n",
    "        global goal_x, goal_y\n",
    "        self.y_data.append(msg.pose.pose.position.y)\n",
    "        self.x_data.append(msg.pose.pose.position.x)\n",
    "        \n",
    "        # Get the position from the message\n",
    "        position = msg.pose.pose.position\n",
    "        # Update the text widget values\n",
    "        x_position_display.value = position.x\n",
    "        y_position_display.value = position.y\n",
    "        \n",
    "        if goal_x is not None and goal_y is not None:\n",
    "            #print('ciao')\n",
    "            if (abs(position.x - goal_x) <= 0.5) and (abs(position.y - goal_y) <= 0.5):\n",
    "                reached_goal.append([goal_x, goal_y])\n",
    "                #print('reached goal odom_callback: ')\n",
    "                #print (reached_goal)\n",
    "\n",
    "            \n",
    "    \n",
    "\n",
    "    def update_plot(self, frame):\n",
    "        self.ln.set_data(self.x_data, self.y_data)\n",
    "        self.goal_ln.set_data(self.goal_x_data, self.goal_y_data)  # Update goal data\n",
    "        return self.ln, self.goal_ln,\n",
    "\n",
    "    def add_goal(self, x, y):\n",
    "        self.goal_x_data.append(x)\n",
    "        self.goal_y_data.append(y)\n",
    "\n",
    "    def remove_goal(self, x, y):\n",
    "        if x in self.goal_x_data and y in self.goal_y_data:\n",
    "            index = self.goal_x_data.index(x)\n",
    "            self.goal_x_data.pop(index)\n",
    "            self.goal_y_data.pop(index)\n"
   ]
  },
  {
   "cell_type": "code",
   "execution_count": 3,
   "id": "b3a6f804",
   "metadata": {},
   "outputs": [],
   "source": [
    "# section with inside all the function thaht will be utilized in the code\n",
    "\n",
    "# Define a function to handle button click (Submit Coordinates)\n",
    "def on_submit_button_clicked(b):\n",
    "    x = x_input.value\n",
    "    y = y_input.value\n",
    "    \n",
    "    global last_x\n",
    "    global last_y\n",
    "    global reached_goal\n",
    "    global not_reached_goal\n",
    "    \n",
    "    # Remopve the previon goal printed isnoide the graph\n",
    "    # Check if there are last submitted coordinates\n",
    "    if last_x is not None and last_y is not None:\n",
    "        vis.remove_goal(last_x, last_y)\n",
    "        print(f'Removed goal at: X={last_x}, Y={last_y}')\n",
    "        \n",
    "    # chek if the goal is reached or not, if it is reached append to the reached gloal list, if not append in the nor_reached list\n",
    "    if interface.get_state() == actionlib.GoalStatus.SUCCEEDED:\n",
    "        reached_goal.append([last_x, last_y])\n",
    "    else:\n",
    "        not_reached_goal.append([last_x, last_y])\n",
    "    \n",
    "    print('reached goal: ')\n",
    "    print (reached_goal)\n",
    "    print(f'not reached goal: ')\n",
    "    print (not_reached_goal)\n",
    "                \n",
    "    # Here you can add the code to send the coordinates to the robot\n",
    "    goal.target_pose.pose.position.x = x\n",
    "    goal.target_pose.pose.position.y = y\n",
    "    # update the last coordinate of the goal\n",
    "    last_x = x\n",
    "    last_y = y\n",
    "    # Send goal to the action server\n",
    "    interface.send_goal(goal)\n",
    "    vis.add_goal(x, y)\n",
    "    print(f'Coordinates submitted: X={x}, Y={y}')\n",
    "\n",
    "    \n",
    "# Define a function to handle button click (Delete Coordinates)\n",
    "def on_delete_button_clicked(b):\n",
    "    \n",
    "    global last_x\n",
    "    global last_y\n",
    "    global reached_goal\n",
    "    global not_reached_goal\n",
    "    \n",
    "    if interface.get_state() == actionlib.GoalStatus.ACTIVE:\n",
    "        interface.cancel_goal()\n",
    "        print(f'Goal cancelled')\n",
    "    else:\n",
    "        print(f'There is no active goal to cancel')\n",
    "     \n",
    "    # Check if there are last submitted coordinates\n",
    "    if last_x is not None and last_y is not None:\n",
    "        vis.remove_goal(last_x, last_y)\n",
    "        print(f'Removed goal at: X={last_x}, Y={last_y}') \n",
    "        \n",
    "    # chek if the goal is reached or not, if it is reached append to the reached gloal list, if not append in the nor_reached list\n",
    "    if interface.get_state() == actionlib.GoalStatus.SUCCEEDED:\n",
    "        reached_goal.append([last_x, last_y])\n",
    "    else:\n",
    "        not_reached_goal.append([last_x, last_y])\n",
    "\n",
    "\n",
    "# Function for update the bargraph\n",
    "def update(num):\n",
    "    ax.clear()\n",
    "    ax.bar(['Reached Goal', 'Not Reached Goal'], [len(reached_goal), len(not_reached_goal)])\n",
    "    ax.set_xlabel('Goal Status')\n",
    "    ax.set_ylabel('Count')\n",
    "    ax.set_title('Barplot of Goal Status')\n"
   ]
  },
  {
   "cell_type": "markdown",
   "id": "8ed2369d",
   "metadata": {},
   "source": [
    "## Jupyter node\n",
    "\n",
    "In the cell below there is all the implementation of the node. \n",
    "\n",
    "In this section will be printed in a box text the position of the robot. For doing that I decide to subscribe to a topic /odom and print the value of the position of the robot. Those values are inside the mesage of type: msg.pose.pose.position and respectively on position x, y cordinates. \n"
   ]
  },
  {
   "cell_type": "code",
   "execution_count": 4,
   "id": "924f9701",
   "metadata": {},
   "outputs": [
    {
     "data": {
      "application/vnd.jupyter.widget-view+json": {
       "model_id": "6058674ff97b4d99a447d41db60f3316",
       "version_major": 2,
       "version_minor": 0
      },
      "text/plain": [
       "VBox(children=(HBox(children=(FloatText(value=0.0, description='X Coordinate:'), FloatText(value=0.0, descript…"
      ]
     },
     "metadata": {},
     "output_type": "display_data"
    },
    {
     "data": {
      "application/vnd.jupyter.widget-view+json": {
       "model_id": "58c443212e6843a1af74f9850feb4cbc",
       "version_major": 2,
       "version_minor": 0
      },
      "text/plain": [
       "Canvas(toolbar=Toolbar(toolitems=[('Home', 'Reset original view', 'home', 'home'), ('Back', 'Back to previous …"
      ]
     },
     "metadata": {},
     "output_type": "display_data"
    },
    {
     "data": {
      "application/vnd.jupyter.widget-view+json": {
       "model_id": "a47d633a35b743dd8fc52a4f31f0dd42",
       "version_major": 2,
       "version_minor": 0
      },
      "text/plain": [
       "Canvas(toolbar=Toolbar(toolitems=[('Home', 'Reset original view', 'home', 'home'), ('Back', 'Back to previous …"
      ]
     },
     "metadata": {},
     "output_type": "display_data"
    },
    {
     "name": "stdout",
     "output_type": "stream",
     "text": [
      "reached goal: \n",
      "[]\n",
      "not reached goal: \n",
      "[[None, None]]\n",
      "Coordinates submitted: X=2.0, Y=1.0\n"
     ]
    }
   ],
   "source": [
    "%matplotlib widget\n",
    "\n",
    "rospy.init_node(\"jupyter_node\")\n",
    "\n",
    "# Inizialize the client service\n",
    "interface = actionlib.SimpleActionClient(\"/reaching_goal\", assignment_2_2023.msg.PlanningAction)\n",
    "interface.wait_for_server()\n",
    "goal = assignment_2_2023.msg.PlanningGoal()\n",
    "\n",
    "# Create text input fields for coordinates\n",
    "x_input = widgets.FloatText(value=0.0, description='X Coordinate:')\n",
    "y_input = widgets.FloatText(value=0.0, description='Y Coordinate:')\n",
    "\n",
    "# Create a button to submit coordinates and delete coordinates\n",
    "submit_button = widgets.Button(description='Submit Coordinates')\n",
    "delete_button = widgets.Button(description='Delete Coordinates')\n",
    "\n",
    "# Attach the functions to the buttons create before\n",
    "submit_button.on_click(on_submit_button_clicked)\n",
    "delete_button.on_click(on_delete_button_clicked)\n",
    "\n",
    "# Create FloatText widgets for displaying robot position\n",
    "x_position_display = widgets.FloatText(description='X:')\n",
    "y_position_display = widgets.FloatText(description='Y:')\n",
    "\n",
    "# Organizza i widget in un layout\n",
    "top_box = widgets.HBox([x_input, y_input])\n",
    "left_box = widgets.VBox([submit_button, delete_button])\n",
    "bottom_box = widgets.HBox([x_position_display, y_position_display])\n",
    "main_box = widgets.VBox([top_box, left_box, bottom_box])\n",
    "\n",
    "# Mostra i widget\n",
    "display(main_box)\n",
    "\n",
    "\n",
    "# Display the widgets and use the FuncAnimation\n",
    "vis = Visualiser()\n",
    "sub = rospy.Subscriber('/odom', Odometry, vis.odom_callback)\n",
    "ani = FuncAnimation(vis.fig, vis.update_plot, init_func=vis.plot_init)\n",
    "\n",
    "\n",
    "# Crea una figura per il grafico\n",
    "fig, ax = plt.subplots()\n",
    "# Func animation for the bargraph\n",
    "ani1 = FuncAnimation(fig, update)\n",
    "plt.show()\n"
   ]
  },
  {
   "cell_type": "code",
   "execution_count": null,
   "id": "b9b3ef9c",
   "metadata": {},
   "outputs": [],
   "source": []
  },
  {
   "cell_type": "code",
   "execution_count": null,
   "id": "6f6f5cdf",
   "metadata": {},
   "outputs": [],
   "source": []
  }
 ],
 "metadata": {
  "kernelspec": {
   "display_name": "Python 3 (ipykernel)",
   "language": "python",
   "name": "python3"
  },
  "language_info": {
   "codemirror_mode": {
    "name": "ipython",
    "version": 3
   },
   "file_extension": ".py",
   "mimetype": "text/x-python",
   "name": "python",
   "nbconvert_exporter": "python",
   "pygments_lexer": "ipython3",
   "version": "3.8.5"
  }
 },
 "nbformat": 4,
 "nbformat_minor": 5
}
