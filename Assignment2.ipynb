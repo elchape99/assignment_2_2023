{
 "cells": [
  {
   "cell_type": "markdown",
   "id": "361cc8db",
   "metadata": {},
   "source": [
    "# Assignment II A\n",
    "create a jupyter notebook to replace the add user interface for the assignment 2 of rt1. This interface will provide the user the capability of set and delete a terget.\n",
    "\n",
    "## Inizialization\n",
    "Import all the necessary modules"
   ]
  },
  {
   "cell_type": "code",
   "execution_count": 1,
   "id": "3645210c",
   "metadata": {},
   "outputs": [],
   "source": [
    "# Import necessary modules\n",
    "import ipywidgets as widgets\n",
    "import jupyros as jr\n",
    "from IPython.display import display\n",
    "import rospy\n",
    "import actionlib\n",
    "import assignment_2_2023\n",
    "import assignment_2_2023.msg\n",
    "from nav_msgs.msg import Odometry\n",
    "from assignment_2_2023.msg import PlanningAction, PlanningActionGoal, RobotInfo\n"
   ]
  },
  {
   "cell_type": "markdown",
   "id": "ed09eee0",
   "metadata": {},
   "source": [
    "## User interface\n",
    "In this part is possible to send a new target at the robot or delete the actual target. Is possible to write the new target inside the box and use the bottom below for send or delete the message.\n"
   ]
  },
  {
   "cell_type": "code",
   "execution_count": 3,
   "id": "924f9701",
   "metadata": {},
   "outputs": [
    {
     "data": {
      "application/vnd.jupyter.widget-view+json": {
       "model_id": "e018640a7e0c48a1a9ea9148f6f81155",
       "version_major": 2,
       "version_minor": 0
      },
      "text/plain": [
       "VBox(children=(FloatText(value=0.0, description='X Coordinate:'), FloatText(value=0.0, description='Y Coordina…"
      ]
     },
     "metadata": {},
     "output_type": "display_data"
    },
    {
     "name": "stdout",
     "output_type": "stream",
     "text": [
      "There is no active goal to cancel\n",
      "There is no active goal to cancel\n",
      "Coordinates submitted: X=5.0, Y=10.0\n",
      "Goal cancelled\n",
      "There is no active goal to cancel\n",
      "There is no active goal to cancel\n",
      "There is no active goal to cancel\n",
      "There is no active goal to cancel\n",
      "There is no active goal to cancel\n",
      "There is no active goal to cancel\n",
      "There is no active goal to cancel\n",
      "There is no active goal to cancel\n",
      "There is no active goal to cancel\n",
      "There is no active goal to cancel\n",
      "There is no active goal to cancel\n",
      "There is no active goal to cancel\n",
      "Coordinates submitted: X=5.0, Y=10.0\n",
      "Coordinates submitted: X=5.0, Y=10.0\n",
      "Coordinates submitted: X=5.0, Y=10.0\n",
      "Coordinates submitted: X=5.0, Y=10.0\n",
      "Coordinates submitted: X=5.0, Y=10.0\n",
      "Coordinates submitted: X=5.0, Y=10.0\n",
      "Coordinates submitted: X=5.0, Y=10.0\n",
      "Coordinates submitted: X=5.0, Y=10.0\n",
      "Coordinates submitted: X=5.0, Y=10.0\n"
     ]
    }
   ],
   "source": [
    "rospy.init_node(\"jupyter_node\")\n",
    "\n",
    "interface = actionlib.SimpleActionClient(\"/reaching_goal\", assignment_2_2023.msg.PlanningAction)\n",
    "goal = assignment_2_2023.msg.PlanningGoal()\n",
    "\n",
    "# Create text input fields for coordinates\n",
    "x_input = widgets.FloatText(value=0.0, description='X Coordinate:')\n",
    "y_input = widgets.FloatText(value=0.0, description='Y Coordinate:')\n",
    "\n",
    "# Create a button to submit coordinates\n",
    "submit_button = widgets.Button(description='Submit Coordinates')\n",
    "\n",
    "# Create a button for delete the cordinate\n",
    "delete_button = widgets.Button(description='Delete Coordinates')\n",
    "\n",
    "# Display the widgets\n",
    "vbox = widgets.VBox([x_input, y_input, submit_button, delete_button])\n",
    "display(vbox)\n",
    "\n",
    "#display(x_input, y_input, submit_button, delete_button)\n",
    "\n",
    "# Define a function to handle button click\n",
    "def on_submit_button_clicked(b):\n",
    "    x = x_input.value\n",
    "    y = y_input.value\n",
    "    \n",
    "    # Here you can add the code to send the coordinates to the robot\n",
    "    goal.target_pose.pose.position.x = x\n",
    "    goal.target_pose.pose.position.y = y\n",
    "    # Send goal to the action server\n",
    "    interface.send_goal(goal)\n",
    "    print(f'Coordinates submitted: X={x}, Y={y}')\n",
    "    \n",
    "def on_delete_button_clicked(b):\n",
    "    if interface.get_state() == actionlib.GoalStatus.ACTIVE:\n",
    "        interface.cancel_goal()\n",
    "        print(f'Goal cancelled')\n",
    "    else:\n",
    "        print(f'There is no active goal to cancel')\n",
    "# Attach the functions to the buttons\n",
    "submit_button.on_click(on_submit_button_clicked)\n",
    "delete_button.on_click(on_delete_button_clicked)\n",
    "\n",
    "\n"
   ]
  },
  {
   "cell_type": "markdown",
   "id": "82a65580",
   "metadata": {},
   "source": [
    "## Position of robot\n",
    "In this section will be printed in a box text the position of the robot. For doing that I decide to subscribe to a topic /odom and print the value of the position of the robot. Those values are inside the mesage of type: msg.pose.pose.position and respectively on position x, y and z cordinates."
   ]
  },
  {
   "cell_type": "code",
   "execution_count": 4,
   "id": "cce0f99f",
   "metadata": {},
   "outputs": [
    {
     "data": {
      "application/vnd.jupyter.widget-view+json": {
       "model_id": "51babd6b906c4d30bec06ec97e8655fb",
       "version_major": 2,
       "version_minor": 0
      },
      "text/plain": [
       "FloatText(value=0.0, description='X:')"
      ]
     },
     "metadata": {},
     "output_type": "display_data"
    },
    {
     "data": {
      "application/vnd.jupyter.widget-view+json": {
       "model_id": "0149de7280c54656904c586967064f30",
       "version_major": 2,
       "version_minor": 0
      },
      "text/plain": [
       "FloatText(value=0.0, description='Y:')"
      ]
     },
     "metadata": {},
     "output_type": "display_data"
    },
    {
     "data": {
      "application/vnd.jupyter.widget-view+json": {
       "model_id": "ca140a76cb404198b1646249ce25b028",
       "version_major": 2,
       "version_minor": 0
      },
      "text/plain": [
       "FloatText(value=0.0, description='Z:')"
      ]
     },
     "metadata": {},
     "output_type": "display_data"
    }
   ],
   "source": [
    "# Create FloatText widgets for displaying robot position\n",
    "x_position_display = widgets.FloatText(description='X:')\n",
    "y_position_display = widgets.FloatText(description='Y:')\n",
    "z_position_display = widgets.FloatText(description='Z:')\n",
    "\n",
    "# Define a callback function for the subscriber\n",
    "def callback(msg):\n",
    "    # Get the position from the message\n",
    "    position = msg.pose.pose.position\n",
    "    \n",
    "    # Update the widget values\n",
    "    x_position_display.value = position.x\n",
    "    y_position_display.value = position.y\n",
    "    z_position_display.value = position.z\n",
    "    \n",
    "# Create a subscriber\n",
    "sub = rospy.Subscriber('/odom', Odometry, callback)\n",
    "\n",
    "# Display the widgets\n",
    "display(x_position_display, y_position_display, z_position_display)"
   ]
  },
  {
   "cell_type": "code",
   "execution_count": 5,
   "id": "20c94688",
   "metadata": {},
   "outputs": [
    {
     "data": {
      "application/vnd.jupyter.widget-view+json": {
       "model_id": "de94b78e8644454fbb90325b28fb1cef",
       "version_major": 2,
       "version_minor": 0
      },
      "text/plain": [
       "FloatText(value=0.0, description='Goal X:')"
      ]
     },
     "metadata": {},
     "output_type": "display_data"
    },
    {
     "data": {
      "application/vnd.jupyter.widget-view+json": {
       "model_id": "8713fc9b34ce4924aa822785121bd006",
       "version_major": 2,
       "version_minor": 0
      },
      "text/plain": [
       "FloatText(value=0.0, description='Goal Y:')"
      ]
     },
     "metadata": {},
     "output_type": "display_data"
    }
   ],
   "source": [
    "# Create FloatText widgets for displaying the last goal\n",
    "x_goal_display = widgets.FloatText(description='Goal X:')\n",
    "y_goal_display = widgets.FloatText(description='Goal Y:')\n",
    "\n",
    "def callback(msg):\n",
    "    # Get the last goal position from the message\n",
    "    last_goal_position = msg.goal.target_pose.pose.position\n",
    "\n",
    "    # Update the widget values\n",
    "    x_goal_display.value = last_goal_position.x\n",
    "    y_goal_display.value = last_goal_position.y\n",
    "\n",
    "# Display the widgets\n",
    "display(x_goal_display, y_goal_display)"
   ]
  },
  {
   "cell_type": "code",
   "execution_count": null,
   "id": "90cd83fd",
   "metadata": {},
   "outputs": [],
   "source": []
  },
  {
   "cell_type": "code",
   "execution_count": null,
   "id": "a873a924",
   "metadata": {},
   "outputs": [],
   "source": []
  },
  {
   "cell_type": "code",
   "execution_count": null,
   "id": "b92ecd9b",
   "metadata": {},
   "outputs": [],
   "source": []
  },
  {
   "cell_type": "code",
   "execution_count": null,
   "id": "0fde9651",
   "metadata": {},
   "outputs": [],
   "source": []
  }
 ],
 "metadata": {
  "kernelspec": {
   "display_name": "Python 3 (ipykernel)",
   "language": "python",
   "name": "python3"
  },
  "language_info": {
   "codemirror_mode": {
    "name": "ipython",
    "version": 3
   },
   "file_extension": ".py",
   "mimetype": "text/x-python",
   "name": "python",
   "nbconvert_exporter": "python",
   "pygments_lexer": "ipython3",
   "version": "3.8.5"
  }
 },
 "nbformat": 4,
 "nbformat_minor": 5
}
