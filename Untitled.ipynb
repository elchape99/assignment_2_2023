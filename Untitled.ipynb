{
 "cells": [
  {
   "cell_type": "markdown",
   "id": "2aa00c1d",
   "metadata": {},
   "source": [
    "# Example of using matplotlib\n",
    "This library is sivided into 3 parts: \n",
    "- Backend Layer\n",
    "- Artist LAyer\n",
    "- Script Layer\n",
    "We will use only the script layer that semplify a lot the work for us.We don'n need to create the widget but only use it.\n",
    "In our code we don't use the object oriented method, but we only use the script method. For using script methiid we use the matplot.pyplot library.\n",
    "NOTE:\n",
    "import numpyp is used for use some math usage in jupyter, for example create the arrays etc ..."
   ]
  },
  {
   "cell_type": "code",
   "execution_count": 16,
   "id": "145c32aa",
   "metadata": {},
   "outputs": [
    {
     "data": {
      "text/plain": [
       "<Figure size 432x288 with 0 Axes>"
      ]
     },
     "metadata": {},
     "output_type": "display_data"
    },
    {
     "data": {
      "text/plain": [
       "<Figure size 432x288 with 0 Axes>"
      ]
     },
     "metadata": {},
     "output_type": "display_data"
    }
   ],
   "source": [
    "# Import necessary modules\n",
    "import ipywidgets as widgets # Library for the use of widget\n",
    "import numpy as np \n",
    "import matplotlib.pyplot as plt # Library for use the script of matplotlib\n",
    "from matplotlib.animation import FuncAnimation # Library for using matplotlib with python\n",
    "from IPython.display import display\n",
    "\n",
    "import rospy\n",
    "import tf\n",
    "from tf.transformations import quaternion_matrix\n",
    "\n",
    "import actionlib\n",
    "import assignment_2_2023\n",
    "import assignment_2_2023.msg\n",
    "from nav_msgs.msg import Odometry\n",
    "from assignment_2_2023.msg import PlanningAction, PlanningActionGoal, RobotInfo, PlanningGoal\n",
    "\n",
    "import time\n",
    "\n",
    "rospy.init_node('odom_visualizer_node')\n",
    "\n",
    "\n",
    "\n",
    "class Visualiser:\n",
    "    \n",
    "    def __init__(self):\n",
    "        self.fig, self.ax = plt.subplots()\n",
    "        self.ln, = plt.plot([], [], 'ro')\n",
    "        self.x_data, self.y_data = [] , []\n",
    "\n",
    "    def plot_init(self):\n",
    "        self.ax.set_xlim(0, 10)\n",
    "        self.ax.set_ylim(0, 10)\n",
    "        return self.ln,\n",
    "\n",
    "    def odom_callback(self, msg):\n",
    "        self.y_data.append(msg.pose.pose.position.y)\n",
    "        self.x_data.append(msg.pose.pose.position.x)\n",
    "        self.ln.set_data(self.x_data, self.y_data)\n",
    "        plt.pause(0.01)\n",
    "\n",
    "\n",
    "    def update_plot(self, frame):\n",
    "        self.ln.set_data(self.x_data, self.y_data)\n",
    "        return self.ln,\n",
    "\n",
    "vis = Visualiser()\n",
    "sub = rospy.Subscriber('odom', Odometry, vis.odom_callback)\n",
    "ani = FuncAnimation(vis.fig, vis.update_plot, init_func=vis.plot_init)\n",
    "plt.show()\n",
    "\n"
   ]
  },
  {
   "cell_type": "code",
   "execution_count": null,
   "id": "035585ec",
   "metadata": {},
   "outputs": [],
   "source": []
  },
  {
   "cell_type": "code",
   "execution_count": null,
   "id": "10169ff5",
   "metadata": {},
   "outputs": [],
   "source": []
  },
  {
   "cell_type": "code",
   "execution_count": null,
   "id": "8684b519",
   "metadata": {},
   "outputs": [],
   "source": []
  }
 ],
 "metadata": {
  "kernelspec": {
   "display_name": "Python 3 (ipykernel)",
   "language": "python",
   "name": "python3"
  },
  "language_info": {
   "codemirror_mode": {
    "name": "ipython",
    "version": 3
   },
   "file_extension": ".py",
   "mimetype": "text/x-python",
   "name": "python",
   "nbconvert_exporter": "python",
   "pygments_lexer": "ipython3",
   "version": "3.8.5"
  }
 },
 "nbformat": 4,
 "nbformat_minor": 5
}
